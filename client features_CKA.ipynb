{
 "cells": [
  {
   "cell_type": "code",
   "execution_count": 41,
   "id": "54bf35b0",
   "metadata": {},
   "outputs": [],
   "source": [
    "import torch\n",
    "import seaborn as sns\n",
    "import matplotlib.pyplot as plt\n",
    "import torchvision\n",
    "import torchvision.transforms as transforms\n",
    "import numpy as np\n",
    "from tqdm import tqdm\n",
    "from models import *\n",
    "from scipy.spatial.distance import cosine\n",
    "from utils.CKA import *\n",
    "import math"
   ]
  },
  {
   "cell_type": "code",
   "execution_count": 44,
   "id": "ecc823d6",
   "metadata": {},
   "outputs": [],
   "source": [
    "PATH = \"model_checkpoints/dirichlet-cifar10/simpleNet4/100(100)clients/\"\n",
    "simplenetv4_simpletanh = torch.load(PATH+\"100_100 *1.0_5_100_0.01_0.9_sgd_0.005_ce_{'num_filter': '16', 'activation': 'simple_tanh'}_0.0001/epoch=100.t1\")\n",
    "simplenetv4_relu = torch.load(PATH+\"100_100 *1.0_5_100_0.01_0.9_sgd_0.005_ce_{'num_filter': '16', 'activation': 'relu'}_0.0001/epoch=100.t1\")"
   ]
  },
  {
   "cell_type": "code",
   "execution_count": 45,
   "id": "3dbb8eb1",
   "metadata": {},
   "outputs": [
    {
     "data": {
      "text/plain": [
       "dict_keys(['client', 'server'])"
      ]
     },
     "execution_count": 45,
     "metadata": {},
     "output_type": "execute_result"
    }
   ],
   "source": [
    "simplenetv4_simpletanh.keys()"
   ]
  },
  {
   "cell_type": "code",
   "execution_count": 46,
   "id": "2591fd63",
   "metadata": {},
   "outputs": [
    {
     "name": "stderr",
     "output_type": "stream",
     "text": [
      "100%|██████████| 21/21 [00:00<00:00, 220.02it/s]\n"
     ]
    }
   ],
   "source": [
    "stanh_client_models = [0] * 21\n",
    "relu_client_models = [0] * 21\n",
    "for i in tqdm(range(21)):\n",
    "    if i < 20:\n",
    "        stanh_client_models[i] = simpleNet4(num_classes=10, num_filter=16, activation='simple_tanh')\n",
    "        stanh_client_models[i].load_state_dict(simplenetv4_simpletanh['client'][i])\n",
    "        stanh_client_models[i].eval()\n",
    "\n",
    "        relu_client_models[i] = simpleNet4(num_classes=10, num_filter=16, activation='relu')\n",
    "        relu_client_models[i].load_state_dict(simplenetv4_relu['client'][i])\n",
    "        relu_client_models[i].eval()    \n",
    "    else:\n",
    "        stanh_client_models[i] = simpleNet4(num_classes=10, num_filter=16, activation='simple_tanh')\n",
    "        stanh_client_models[i].load_state_dict(simplenetv4_simpletanh['server'])\n",
    "        stanh_client_models[i].eval()\n",
    "\n",
    "        relu_client_models[i] = simpleNet4(num_classes=10, num_filter=16, activation='relu')\n",
    "        relu_client_models[i].load_state_dict(simplenetv4_relu['server'])\n",
    "        relu_client_models[i].eval()    "
   ]
  },
  {
   "cell_type": "code",
   "execution_count": 47,
   "id": "1bcb5cab",
   "metadata": {},
   "outputs": [
    {
     "name": "stdout",
     "output_type": "stream",
     "text": [
      "Files already downloaded and verified\n"
     ]
    }
   ],
   "source": [
    "transform = transforms.Compose([transforms.ToTensor(), transforms.Normalize((0.4914, 0.4822, 0.4465), (0.2023, 0.1994, 0.2010))])\n",
    "\n",
    "testset = torchvision.datasets.CIFAR10(root='./data/dirichlet-cifar10/', train=False, download=True, transform=transform)"
   ]
  },
  {
   "cell_type": "code",
   "execution_count": 48,
   "id": "80705fea",
   "metadata": {},
   "outputs": [],
   "source": [
    "def get_feature(x, model):\n",
    "    features = {}\n",
    "    for _, (name, layer) in enumerate(model.named_children()):\n",
    "        if \"Cross\" in str(layer):\n",
    "            break\n",
    "        elif \"Linear\" in str(layer):\n",
    "            x = torch.flatten(x,1)\n",
    "        x = layer(x)\n",
    "        if \"Conv\" in str(layer):\n",
    "            x = model.activation(x)\n",
    "        features[str(name)] = x\n",
    "    return features"
   ]
  },
  {
   "cell_type": "code",
   "execution_count": 49,
   "id": "33436464",
   "metadata": {},
   "outputs": [],
   "source": [
    "test_image = {}\n",
    "for image in testset:\n",
    "    image_class = image[1]\n",
    "    if image_class not in test_image:\n",
    "        test_image[image_class] = image[0].unsqueeze(0)\n",
    "    else:\n",
    "        test_image[image_class] = torch.cat([test_image[image_class], image[0].unsqueeze(0)], dim=0)"
   ]
  },
  {
   "cell_type": "markdown",
   "id": "c5c0702e",
   "metadata": {},
   "source": [
    "# Feature Extract"
   ]
  },
  {
   "cell_type": "code",
   "execution_count": 50,
   "id": "ea862ed9",
   "metadata": {},
   "outputs": [
    {
     "name": "stderr",
     "output_type": "stream",
     "text": [
      "100%|██████████| 21/21 [00:16<00:00,  1.29it/s]\n",
      "100%|██████████| 21/21 [00:03<00:00,  6.59it/s]\n"
     ]
    }
   ],
   "source": [
    "stanh_class_feature = [0] * 21\n",
    "for i in tqdm(range(21)):\n",
    "    stanh_class_feature[i] = [0] * 10\n",
    "    for j in range(10):\n",
    "        stanh_class_feature[i][j] = get_feature(test_image[j][500:530], stanh_client_models[i])\n",
    "        \n",
    "relu_class_feature = [0] * 21\n",
    "for i in tqdm(range(21)):\n",
    "    relu_class_feature[i] = [0] * 10\n",
    "    for j in range(10):\n",
    "        relu_class_feature[i][j] = get_feature(test_image[j][500:530], relu_client_models[i])"
   ]
  },
  {
   "cell_type": "markdown",
   "id": "9e60494b",
   "metadata": {},
   "source": [
    "# Client별 CKA"
   ]
  },
  {
   "cell_type": "code",
   "execution_count": 106,
   "id": "e1ef928d",
   "metadata": {},
   "outputs": [
    {
     "name": "stderr",
     "output_type": "stream",
     "text": [
      "100%|██████████| 20/20 [00:00<00:00, 24.12it/s]\n"
     ]
    }
   ],
   "source": [
    "relu_CKA = np.zeros((20,20))\n",
    "stanh_CKA = np.zeros((20,20))\n",
    "for i in tqdm(range(20)):\n",
    "    for j in range(20):\n",
    "        relu_CKA[i,j] = linear_CKA(np.mean(relu_class_feature[i][0]['maxpool'].detach().numpy(), axis=(1,2)), np.mean(relu_class_feature[j][0]['maxpool'].detach().numpy(), axis=(1,2)))\n",
    "        stanh_CKA[i,j] = linear_CKA(np.mean(stanh_class_feature[i][0]['maxpool'].detach().numpy(), axis=(1,2)), np.mean(stanh_class_feature[j][0]['maxpool'].detach().numpy(), axis=(1,2)))"
   ]
  },
  {
   "cell_type": "code",
   "execution_count": 107,
   "id": "13669ae0",
   "metadata": {},
   "outputs": [
    {
     "data": {
      "image/png": "[encoded data removed]",
      "text/plain": [
       "<Figure size 432x288 with 2 Axes>"
      ]
     },
     "metadata": {
      "needs_background": "light"
     },
     "output_type": "display_data"
    }
   ],
   "source": [
    "plt.pcolor(relu_CKA, cmap='bwr')\n",
    "cbar = plt.colorbar()\n",
    "cbar.ax.tick_params(labelsize=12)\n",
    "plt.clim(0.95, 1)\n",
    "plt.ylabel('Client ID',fontsize=20)\n",
    "plt.xlabel('Client ID', fontsize=20)\n",
    "plt.yticks(fontsize=12)\n",
    "plt.xticks(fontsize=12)\n",
    "plt.savefig('./fig/client=100_epoch=100_relu_maxpool_client vs client.pdf', bbox_inches='tight')"
   ]
  },
  {
   "cell_type": "code",
   "execution_count": 108,
   "id": "819940e4",
   "metadata": {},
   "outputs": [
    {
     "data": {
      "image/png": "[encoded data removed]",
      "text/plain": [
       "<Figure size 432x288 with 2 Axes>"
      ]
     },
     "metadata": {
      "needs_background": "light"
     },
     "output_type": "display_data"
    }
   ],
   "source": [
    "plt.pcolor(stanh_CKA, cmap='bwr')\n",
    "cbar = plt.colorbar()\n",
    "cbar.ax.tick_params(labelsize=12)\n",
    "plt.clim(0.95, 1)\n",
    "plt.ylabel('Client ID', fontsize=20)\n",
    "plt.xlabel('Client ID', fontsize=20)\n",
    "plt.yticks(fontsize=12)\n",
    "plt.xticks(fontsize=12)\n",
    "plt.savefig('./fig/client=100_epoch=100_hardtanh_maxpool_client vs client.pdf',bbox_inches='tight')"
   ]
  },
  {
   "cell_type": "markdown",
   "id": "adbcb563",
   "metadata": {},
   "source": [
    "# CKA per CLASS"
   ]
  },
  {
   "cell_type": "code",
   "execution_count": 49,
   "id": "245fd22a",
   "metadata": {},
   "outputs": [
    {
     "name": "stderr",
     "output_type": "stream",
     "text": [
      "100%|██████████| 20/20 [00:00<00:00, 41.94it/s]\n"
     ]
    }
   ],
   "source": [
    "relu_class_CKA = np.zeros((20,10))\n",
    "stanh_class_CKA = np.zeros((20,10))\n",
    "for i in tqdm(range(20)):\n",
    "    for j in range(10):\n",
    "        relu_class_CKA[i,j] = linear_CKA(np.mean(relu_class_feature[i][j]['maxpool'].detach().numpy(), axis=(1,2)), np.mean(relu_class_feature[20][j]['maxpool'].detach().numpy(), axis=(1,2)))\n",
    "        stanh_class_CKA[i,j] = linear_CKA(np.mean(stanh_class_feature[i][j]['maxpool'].detach().numpy(), axis=(1,2)), np.mean(stanh_class_feature[20][j]['maxpool'].detach().numpy(), axis=(1,2)))"
   ]
  },
  {
   "cell_type": "code",
   "execution_count": 55,
   "id": "64a35d37",
   "metadata": {},
   "outputs": [
    {
     "data": {
      "image/png": "[encoded data removed]",
      "text/plain": [
       "<Figure size 432x288 with 2 Axes>"
      ]
     },
     "metadata": {
      "needs_background": "light"
     },
     "output_type": "display_data"
    }
   ],
   "source": [
    "plt.pcolor(relu_class_CKA, cmap='bwr')\n",
    "plt.colorbar()\n",
    "plt.xlabel('Class')\n",
    "plt.ylabel('Client')\n",
    "plt.clim(0.98, 1)\n",
    "plt.savefig('./fig/client=100_epoch=100_relu_maxpool_server vs client.pdf')"
   ]
  },
  {
   "cell_type": "code",
   "execution_count": 54,
   "id": "c828135f",
   "metadata": {},
   "outputs": [
    {
     "data": {
      "image/png": "[encoded data removed]",
      "text/plain": [
       "<Figure size 432x288 with 2 Axes>"
      ]
     },
     "metadata": {
      "needs_background": "light"
     },
     "output_type": "display_data"
    }
   ],
   "source": [
    "plt.pcolor(stanh_class_CKA, cmap='bwr')\n",
    "plt.colorbar()\n",
    "plt.clim(0.98, 1)\n",
    "plt.savefig('./fig/client=100_epoch=100_hardtanh_maxpool_server vs client.pdf')"
   ]
  },
  {
   "cell_type": "code",
   "execution_count": null,
   "id": "f37d6320",
   "metadata": {},
   "outputs": [],
   "source": []
  },
  {
   "cell_type": "code",
   "execution_count": null,
   "id": "3fca79fb",
   "metadata": {},
   "outputs": [],
   "source": []
  }
 ],
 "metadata": {
  "kernelspec": {
   "display_name": "Full on Python 3.7 (GPU)",
   "language": "python",
   "name": "python3"
  },
  "language_info": {
   "codemirror_mode": {
    "name": "ipython",
    "version": 3
   },
   "file_extension": ".py",
   "mimetype": "text/x-python",
   "name": "python",
   "nbconvert_exporter": "python",
   "pygments_lexer": "ipython3",
   "version": "3.7.11"
  }
 },
 "nbformat": 4,
 "nbformat_minor": 5
}
